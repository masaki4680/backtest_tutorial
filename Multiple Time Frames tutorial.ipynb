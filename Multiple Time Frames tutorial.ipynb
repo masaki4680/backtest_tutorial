{
 "cells": [
  {
   "cell_type": "markdown",
   "metadata": {},
   "source": [
    "# Multiple Time Frames\n",
    "<https://kernc.github.io/backtesting.py/doc/examples/Multiple%20Time%20Frames.html>"
   ]
  },
  {
   "cell_type": "code",
   "execution_count": 1,
   "metadata": {},
   "outputs": [],
   "source": [
    "import pandas as pd\n",
    "\n",
    "\n",
    "def SMA(array, n):\n",
    "    \"\"\"Simple moving average\"\"\"\n",
    "    return pd.Series(array).rolling(n).mean()\n",
    "\n",
    "\n",
    "def RSI(array, n):\n",
    "    \"\"\"Relative strength index\"\"\"\n",
    "    # Approximate; good enough\n",
    "    gain = pd.Series(array).diff()\n",
    "    loss = gain.copy()\n",
    "    gain[gain < 0] = 0\n",
    "    loss[loss > 0] = 0\n",
    "    rs = gain.ewm(n).mean() / loss.abs().ewm(n).mean()\n",
    "    return 100 - 100 / (1 + rs)"
   ]
  },
  {
   "cell_type": "markdown",
   "metadata": {},
   "source": [
    "Resample\n",
    "\n",
    "```\n",
    "        self.weekly_rsi = resample_apply(\n",
    "            'W-FRI', RSI, self.data.Close, self.w_rsi)\n",
    "```"
   ]
  },
  {
   "cell_type": "code",
   "execution_count": 3,
   "metadata": {},
   "outputs": [],
   "source": [
    "from backtesting import Strategy, Backtest\n",
    "from backtesting.lib import resample_apply\n",
    "\n",
    "\n",
    "class System(Strategy):\n",
    "    d_rsi = 30  # Daily RSI lookback periods\n",
    "    w_rsi = 30  # Weekly\n",
    "    level = 70\n",
    "    \n",
    "    def init(self):\n",
    "        # Compute moving averages the strategy demands\n",
    "        self.ma10 = self.I(SMA, self.data.Close, 10)\n",
    "        self.ma20 = self.I(SMA, self.data.Close, 20)\n",
    "        self.ma50 = self.I(SMA, self.data.Close, 50)\n",
    "        self.ma100 = self.I(SMA, self.data.Close, 100)\n",
    "        \n",
    "        # Compute daily RSI(30)\n",
    "        self.daily_rsi = self.I(RSI, self.data.Close, self.d_rsi)\n",
    "        \n",
    "        # To construct weekly RSI, we can use `resample_apply()`\n",
    "        # helper function from the library\n",
    "        self.weekly_rsi = resample_apply(\n",
    "            'W-FRI', RSI, self.data.Close, self.w_rsi)\n",
    "        \n",
    "        \n",
    "    def next(self):\n",
    "        price = self.data.Close[-1]\n",
    "        \n",
    "        # If we don't already have a position, and\n",
    "        # if all conditions are satisfied, enter long.\n",
    "        if (not self.position and\n",
    "            self.daily_rsi[-1] > self.level and\n",
    "            self.weekly_rsi[-1] > self.level and\n",
    "            self.weekly_rsi[-1] > self.daily_rsi[-1] and\n",
    "            self.ma10[-1] > self.ma20[-1] > self.ma50[-1] > self.ma100[-1] and\n",
    "            price > self.ma10[-1]):\n",
    "            \n",
    "            # Buy at market price on next open, but do\n",
    "            # set 8% fixed stop loss.\n",
    "            self.buy(sl=.92 * price)\n",
    "        \n",
    "        # If the price closes 2% or more below 10-day MA\n",
    "        # close the position, if any.\n",
    "        elif price < .98 * self.ma10[-1]:\n",
    "            self.position.close()"
   ]
  },
  {
   "cell_type": "code",
   "execution_count": 4,
   "metadata": {},
   "outputs": [
    {
     "data": {
      "text/plain": [
       "Start                     2004-08-19 00:00:00\n",
       "End                       2013-03-01 00:00:00\n",
       "Duration                   3116 days 00:00:00\n",
       "Exposure Time [%]                    2.793296\n",
       "Equity Final [$]                  10017.44422\n",
       "Equity Peak [$]                    10978.3801\n",
       "Return [%]                           0.174442\n",
       "Buy & Hold Return [%]              703.458242\n",
       "Return (Ann.) [%]                     0.02045\n",
       "Volatility (Ann.) [%]                4.941212\n",
       "Sharpe Ratio                         0.004139\n",
       "Sortino Ratio                         0.00536\n",
       "Calmar Ratio                         0.002043\n",
       "Max. Drawdown [%]                   -10.00745\n",
       "Avg. Drawdown [%]                   -9.340092\n",
       "Max. Drawdown Duration     2653 days 00:00:00\n",
       "Avg. Drawdown Duration     1410 days 00:00:00\n",
       "# Trades                                    4\n",
       "Win Rate [%]                             25.0\n",
       "Best Trade [%]                       9.687579\n",
       "Worst Trade [%]                     -4.456159\n",
       "Avg. Trade [%]                       0.081712\n",
       "Max. Trade Duration          35 days 00:00:00\n",
       "Avg. Trade Duration          21 days 00:00:00\n",
       "Profit Factor                         1.10514\n",
       "Expectancy [%]                       0.230413\n",
       "SQN                                  0.014232\n",
       "_strategy                              System\n",
       "_equity_curve                             ...\n",
       "_trades                      Size  EntryBa...\n",
       "dtype: object"
      ]
     },
     "execution_count": 4,
     "metadata": {},
     "output_type": "execute_result"
    }
   ],
   "source": [
    "from backtesting.test import GOOG\n",
    "\n",
    "backtest = Backtest(GOOG, System, commission=.002)\n",
    "backtest.run()"
   ]
  },
  {
   "cell_type": "code",
   "execution_count": 5,
   "metadata": {},
   "outputs": [
    {
     "name": "stdout",
     "output_type": "stream",
     "text": [
      "CPU times: user 249 ms, sys: 80.6 ms, total: 329 ms\n",
      "Wall time: 5.13 s\n"
     ]
    },
    {
     "data": {
      "text/plain": [
       "Start                     2004-08-19 00:00:00\n",
       "End                       2013-03-01 00:00:00\n",
       "Duration                   3116 days 00:00:00\n",
       "Exposure Time [%]                   22.486034\n",
       "Equity Final [$]                  22587.83224\n",
       "Equity Peak [$]                   23395.59144\n",
       "Return [%]                         125.878322\n",
       "Buy & Hold Return [%]              703.458242\n",
       "Return (Ann.) [%]                    10.03124\n",
       "Volatility (Ann.) [%]               13.124247\n",
       "Sharpe Ratio                         0.764329\n",
       "Sortino Ratio                         1.28711\n",
       "Calmar Ratio                         0.530172\n",
       "Max. Drawdown [%]                  -18.920719\n",
       "Avg. Drawdown [%]                   -3.795058\n",
       "Max. Drawdown Duration      778 days 00:00:00\n",
       "Avg. Drawdown Duration       97 days 00:00:00\n",
       "# Trades                                   23\n",
       "Win Rate [%]                        65.217391\n",
       "Best Trade [%]                      25.034669\n",
       "Worst Trade [%]                     -6.297769\n",
       "Avg. Trade [%]                       3.658322\n",
       "Max. Trade Duration          63 days 00:00:00\n",
       "Avg. Trade Duration          29 days 00:00:00\n",
       "Profit Factor                         4.97576\n",
       "Expectancy [%]                       3.923473\n",
       "SQN                                  2.608508\n",
       "_strategy                 System(d_rsi=30,...\n",
       "_equity_curve                             ...\n",
       "_trades                       Size  EntryB...\n",
       "dtype: object"
      ]
     },
     "execution_count": 5,
     "metadata": {},
     "output_type": "execute_result"
    }
   ],
   "source": [
    "%%time\n",
    "\n",
    "backtest.optimize(d_rsi=range(10, 35, 5),\n",
    "                  w_rsi=range(10, 35, 5),\n",
    "                  level=range(30, 80, 10))"
   ]
  }
 ],
 "metadata": {
  "kernelspec": {
   "display_name": "Python 3.10.4 64-bit",
   "language": "python",
   "name": "python3"
  },
  "language_info": {
   "codemirror_mode": {
    "name": "ipython",
    "version": 3
   },
   "file_extension": ".py",
   "mimetype": "text/x-python",
   "name": "python",
   "nbconvert_exporter": "python",
   "pygments_lexer": "ipython3",
   "version": "3.10.4"
  },
  "orig_nbformat": 4,
  "vscode": {
   "interpreter": {
    "hash": "916dbcbb3f70747c44a77c7bcd40155683ae19c65e1c03b4aa3499c5328201f1"
   }
  }
 },
 "nbformat": 4,
 "nbformat_minor": 2
}
