{
 "cells": [
  {
   "cell_type": "markdown",
   "metadata": {},
   "source": [
    "# Parameter Heatmap\n",
    "<https://kernc.github.io/backtesting.py/doc/examples/Parameter%20Heatmap%20&%20Optimization.html>"
   ]
  },
  {
   "cell_type": "code",
   "execution_count": 1,
   "metadata": {},
   "outputs": [],
   "source": [
    "from backtesting.test import SMA\n",
    "from backtesting import Strategy\n",
    "from backtesting.lib import crossover\n",
    "\n",
    "\n",
    "class Sma4Cross(Strategy):\n",
    "    n1 = 50\n",
    "    n2 = 100\n",
    "    n_enter = 20\n",
    "    n_exit = 10\n",
    "    \n",
    "    def init(self):\n",
    "        self.sma1 = self.I(SMA, self.data.Close, self.n1)\n",
    "        self.sma2 = self.I(SMA, self.data.Close, self.n2)\n",
    "        self.sma_enter = self.I(SMA, self.data.Close, self.n_enter)\n",
    "        self.sma_exit = self.I(SMA, self.data.Close, self.n_exit)\n",
    "        \n",
    "    def next(self):\n",
    "        \n",
    "        if not self.position:\n",
    "            \n",
    "            # On upwards trend, if price closes above\n",
    "            # \"entry\" MA, go long\n",
    "            \n",
    "            # Here, even though the operands are arrays, this\n",
    "            # works by implicitly comparing the two last values\n",
    "            if self.sma1 > self.sma2:\n",
    "                if crossover(self.data.Close, self.sma_enter):\n",
    "                    self.buy()\n",
    "                    \n",
    "            # On downwards trend, if price closes below\n",
    "            # \"entry\" MA, go short\n",
    "            \n",
    "            else:\n",
    "                if crossover(self.sma_enter, self.data.Close):\n",
    "                    self.sell()\n",
    "        \n",
    "        # But if we already hold a position and the price\n",
    "        # closes back below (above) \"exit\" MA, close the position\n",
    "        \n",
    "        else:\n",
    "            if (self.position.is_long and\n",
    "                crossover(self.sma_exit, self.data.Close)\n",
    "                or\n",
    "                self.position.is_short and\n",
    "                crossover(self.data.Close, self.sma_exit)):\n",
    "                \n",
    "                self.position.close()"
   ]
  },
  {
   "cell_type": "markdown",
   "metadata": {},
   "source": [
    "## Grid Search"
   ]
  },
  {
   "cell_type": "code",
   "execution_count": 2,
   "metadata": {},
   "outputs": [
    {
     "name": "stdout",
     "output_type": "stream",
     "text": [
      "CPU times: user 408 ms, sys: 133 ms, total: 542 ms\n",
      "Wall time: 7.04 s\n"
     ]
    }
   ],
   "source": [
    "%%time \n",
    "\n",
    "from backtesting import Backtest\n",
    "from backtesting.test import GOOG\n",
    "\n",
    "\n",
    "backtest = Backtest(GOOG, Sma4Cross, commission=.002)\n",
    "\n",
    "stats, heatmap = backtest.optimize(\n",
    "    n1=range(10, 110, 10),\n",
    "    n2=range(20, 210, 20),\n",
    "    n_enter=range(15, 35, 5),\n",
    "    n_exit=range(10, 25, 5),\n",
    "    constraint=lambda p: p.n_exit < p.n_enter < p.n1 < p.n2,\n",
    "    maximize='Equity Final [$]',\n",
    "    max_tries=200,\n",
    "    random_state=0,\n",
    "    return_heatmap=True)"
   ]
  },
  {
   "cell_type": "code",
   "execution_count": 3,
   "metadata": {},
   "outputs": [
    {
     "data": {
      "text/plain": [
       "n1   n2   n_enter  n_exit\n",
       "20   60   15       10        10102.86700\n",
       "     80   15       10         9864.21924\n",
       "     100  15       10        11003.21764\n",
       "30   40   20       15        11771.28610\n",
       "          25       15        16178.54842\n",
       "                                ...     \n",
       "100  200  15       10        13118.24766\n",
       "          20       10        11308.46180\n",
       "                   15        16350.94380\n",
       "          25       10         8991.55294\n",
       "          30       10         9953.07010\n",
       "Name: Equity Final [$], Length: 177, dtype: float64"
      ]
     },
     "execution_count": 3,
     "metadata": {},
     "output_type": "execute_result"
    }
   ],
   "source": [
    "heatmap"
   ]
  },
  {
   "cell_type": "code",
   "execution_count": 4,
   "metadata": {},
   "outputs": [
    {
     "data": {
      "text/plain": [
       "n1   n2   n_enter  n_exit\n",
       "100  120  15       10        18159.06414\n",
       "     160  20       15        19216.54456\n",
       "50   160  20       15        19565.69222\n",
       "Name: Equity Final [$], dtype: float64"
      ]
     },
     "execution_count": 4,
     "metadata": {},
     "output_type": "execute_result"
    }
   ],
   "source": [
    "# top 3 best run\n",
    "heatmap.sort_values().iloc[-3:]"
   ]
  },
  {
   "cell_type": "code",
   "execution_count": 5,
   "metadata": {},
   "outputs": [
    {
     "data": {
      "text/html": [
       "<div>\n",
       "<style scoped>\n",
       "    .dataframe tbody tr th:only-of-type {\n",
       "        vertical-align: middle;\n",
       "    }\n",
       "\n",
       "    .dataframe tbody tr th {\n",
       "        vertical-align: top;\n",
       "    }\n",
       "\n",
       "    .dataframe thead th {\n",
       "        text-align: right;\n",
       "    }\n",
       "</style>\n",
       "<table border=\"1\" class=\"dataframe\">\n",
       "  <thead>\n",
       "    <tr style=\"text-align: right;\">\n",
       "      <th>n2</th>\n",
       "      <th>40</th>\n",
       "      <th>60</th>\n",
       "      <th>80</th>\n",
       "      <th>100</th>\n",
       "      <th>120</th>\n",
       "      <th>140</th>\n",
       "      <th>160</th>\n",
       "      <th>180</th>\n",
       "      <th>200</th>\n",
       "    </tr>\n",
       "    <tr>\n",
       "      <th>n1</th>\n",
       "      <th></th>\n",
       "      <th></th>\n",
       "      <th></th>\n",
       "      <th></th>\n",
       "      <th></th>\n",
       "      <th></th>\n",
       "      <th></th>\n",
       "      <th></th>\n",
       "      <th></th>\n",
       "    </tr>\n",
       "  </thead>\n",
       "  <tbody>\n",
       "    <tr>\n",
       "      <th>20</th>\n",
       "      <td>NaN</td>\n",
       "      <td>10102.867000</td>\n",
       "      <td>9864.219240</td>\n",
       "      <td>11003.217640</td>\n",
       "      <td>NaN</td>\n",
       "      <td>NaN</td>\n",
       "      <td>NaN</td>\n",
       "      <td>NaN</td>\n",
       "      <td>NaN</td>\n",
       "    </tr>\n",
       "    <tr>\n",
       "      <th>30</th>\n",
       "      <td>13974.91726</td>\n",
       "      <td>11696.318673</td>\n",
       "      <td>11757.991340</td>\n",
       "      <td>15092.994270</td>\n",
       "      <td>13152.243360</td>\n",
       "      <td>11518.686895</td>\n",
       "      <td>11271.353850</td>\n",
       "      <td>11384.550965</td>\n",
       "      <td>10649.052688</td>\n",
       "    </tr>\n",
       "    <tr>\n",
       "      <th>40</th>\n",
       "      <td>NaN</td>\n",
       "      <td>13666.448095</td>\n",
       "      <td>NaN</td>\n",
       "      <td>7549.099980</td>\n",
       "      <td>10629.479030</td>\n",
       "      <td>12860.993870</td>\n",
       "      <td>11405.291153</td>\n",
       "      <td>10863.807380</td>\n",
       "      <td>10658.139865</td>\n",
       "    </tr>\n",
       "    <tr>\n",
       "      <th>50</th>\n",
       "      <td>NaN</td>\n",
       "      <td>8383.464960</td>\n",
       "      <td>10180.502548</td>\n",
       "      <td>10563.790150</td>\n",
       "      <td>9081.947013</td>\n",
       "      <td>14272.265500</td>\n",
       "      <td>13575.860855</td>\n",
       "      <td>11383.464993</td>\n",
       "      <td>10053.468620</td>\n",
       "    </tr>\n",
       "    <tr>\n",
       "      <th>60</th>\n",
       "      <td>NaN</td>\n",
       "      <td>NaN</td>\n",
       "      <td>9232.415117</td>\n",
       "      <td>8046.485900</td>\n",
       "      <td>10838.454280</td>\n",
       "      <td>12876.589427</td>\n",
       "      <td>10312.954633</td>\n",
       "      <td>9427.545100</td>\n",
       "      <td>9555.402033</td>\n",
       "    </tr>\n",
       "    <tr>\n",
       "      <th>70</th>\n",
       "      <td>NaN</td>\n",
       "      <td>NaN</td>\n",
       "      <td>14712.143280</td>\n",
       "      <td>7192.892540</td>\n",
       "      <td>10403.014630</td>\n",
       "      <td>10065.279860</td>\n",
       "      <td>8293.733687</td>\n",
       "      <td>9895.782090</td>\n",
       "      <td>9360.478292</td>\n",
       "    </tr>\n",
       "    <tr>\n",
       "      <th>80</th>\n",
       "      <td>NaN</td>\n",
       "      <td>NaN</td>\n",
       "      <td>NaN</td>\n",
       "      <td>10863.108515</td>\n",
       "      <td>7721.243967</td>\n",
       "      <td>9139.946300</td>\n",
       "      <td>8813.949990</td>\n",
       "      <td>10414.656200</td>\n",
       "      <td>8908.486500</td>\n",
       "    </tr>\n",
       "    <tr>\n",
       "      <th>90</th>\n",
       "      <td>NaN</td>\n",
       "      <td>NaN</td>\n",
       "      <td>NaN</td>\n",
       "      <td>8958.143200</td>\n",
       "      <td>9538.050067</td>\n",
       "      <td>9884.415550</td>\n",
       "      <td>9685.919510</td>\n",
       "      <td>11343.643830</td>\n",
       "      <td>8806.572300</td>\n",
       "    </tr>\n",
       "    <tr>\n",
       "      <th>100</th>\n",
       "      <td>NaN</td>\n",
       "      <td>NaN</td>\n",
       "      <td>NaN</td>\n",
       "      <td>NaN</td>\n",
       "      <td>11253.156553</td>\n",
       "      <td>7101.260447</td>\n",
       "      <td>11323.427430</td>\n",
       "      <td>10163.321700</td>\n",
       "      <td>11944.455260</td>\n",
       "    </tr>\n",
       "  </tbody>\n",
       "</table>\n",
       "</div>"
      ],
      "text/plain": [
       "n2           40            60            80            100           120  \\\n",
       "n1                                                                         \n",
       "20           NaN  10102.867000   9864.219240  11003.217640           NaN   \n",
       "30   13974.91726  11696.318673  11757.991340  15092.994270  13152.243360   \n",
       "40           NaN  13666.448095           NaN   7549.099980  10629.479030   \n",
       "50           NaN   8383.464960  10180.502548  10563.790150   9081.947013   \n",
       "60           NaN           NaN   9232.415117   8046.485900  10838.454280   \n",
       "70           NaN           NaN  14712.143280   7192.892540  10403.014630   \n",
       "80           NaN           NaN           NaN  10863.108515   7721.243967   \n",
       "90           NaN           NaN           NaN   8958.143200   9538.050067   \n",
       "100          NaN           NaN           NaN           NaN  11253.156553   \n",
       "\n",
       "n2            140           160           180           200  \n",
       "n1                                                           \n",
       "20            NaN           NaN           NaN           NaN  \n",
       "30   11518.686895  11271.353850  11384.550965  10649.052688  \n",
       "40   12860.993870  11405.291153  10863.807380  10658.139865  \n",
       "50   14272.265500  13575.860855  11383.464993  10053.468620  \n",
       "60   12876.589427  10312.954633   9427.545100   9555.402033  \n",
       "70   10065.279860   8293.733687   9895.782090   9360.478292  \n",
       "80    9139.946300   8813.949990  10414.656200   8908.486500  \n",
       "90    9884.415550   9685.919510  11343.643830   8806.572300  \n",
       "100   7101.260447  11323.427430  10163.321700  11944.455260  "
      ]
     },
     "execution_count": 5,
     "metadata": {},
     "output_type": "execute_result"
    }
   ],
   "source": [
    "hm = heatmap.groupby(['n1', 'n2']).mean().unstack()\n",
    "hm"
   ]
  },
  {
   "cell_type": "code",
   "execution_count": 9,
   "metadata": {},
   "outputs": [
    {
     "data": {
      "text/plain": [
       "<AxesSubplot:xlabel='n2', ylabel='n1'>"
      ]
     },
     "execution_count": 9,
     "metadata": {},
     "output_type": "execute_result"
    },
    {
     "data": {
      "image/png": "[encoded data removed]",
      "text/plain": [
       "<Figure size 432x288 with 2 Axes>"
      ]
     },
     "metadata": {
      "needs_background": "light"
     },
     "output_type": "display_data"
    }
   ],
   "source": [
    "import seaborn as sns\n",
    "\n",
    "\n",
    "sns.heatmap(hm[::-1], cmap='viridis')"
   ]
  },
  {
   "cell_type": "markdown",
   "metadata": {},
   "source": [
    "## Model Based optimization"
   ]
  }
 ],
 "metadata": {
  "kernelspec": {
   "display_name": "Python 3.10.4 64-bit",
   "language": "python",
   "name": "python3"
  },
  "language_info": {
   "codemirror_mode": {
    "name": "ipython",
    "version": 3
   },
   "file_extension": ".py",
   "mimetype": "text/x-python",
   "name": "python",
   "nbconvert_exporter": "python",
   "pygments_lexer": "ipython3",
   "version": "3.10.4"
  },
  "orig_nbformat": 4,
  "vscode": {
   "interpreter": {
    "hash": "916dbcbb3f70747c44a77c7bcd40155683ae19c65e1c03b4aa3499c5328201f1"
   }
  }
 },
 "nbformat": 4,
 "nbformat_minor": 2
}
